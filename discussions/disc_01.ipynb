{
 "cells": [
  {
   "cell_type": "markdown",
   "metadata": {},
   "source": [
    "## Discussion 1: Control, Environment Diagrams"
   ]
  },
  {
   "cell_type": "code",
   "execution_count": 6,
   "metadata": {},
   "outputs": [
    {
     "name": "stdout",
     "output_type": "stream",
     "text": [
      "230\n"
     ]
    }
   ],
   "source": [
    "def dist_y(y, t):\n",
    "    if t % 10 > 5:\n",
    "        return y * (5*(t//10 + 1))\n",
    "    else:\n",
    "        return y * (5*(t//10) + t % 10)\n",
    "\n",
    "print(dist_y(10, 43))\n"
   ]
  },
  {
   "cell_type": "code",
   "execution_count": 10,
   "metadata": {},
   "outputs": [
    {
     "name": "stdout",
     "output_type": "stream",
     "text": [
      "running for 1 and 2\n",
      "10\n",
      "running for 2 and 3\n",
      "15\n",
      "running for 2 and 4\n",
      "10\n",
      "running for 3 and 4\n"
     ]
    },
    {
     "ename": "KeyboardInterrupt",
     "evalue": "",
     "output_type": "error",
     "traceback": [
      "\u001b[1;31m---------------------------------------------------------------------------\u001b[0m",
      "\u001b[1;31mKeyboardInterrupt\u001b[0m                         Traceback (most recent call last)",
      "Cell \u001b[1;32mIn[10], line 24\u001b[0m\n\u001b[0;32m     22\u001b[0m \u001b[38;5;28;01mif\u001b[39;00m j \u001b[38;5;129;01min\u001b[39;00m \u001b[38;5;28mrange\u001b[39m(i\u001b[38;5;241m+\u001b[39m\u001b[38;5;241m1\u001b[39m, \u001b[38;5;241m2\u001b[39m\u001b[38;5;241m*\u001b[39mi \u001b[38;5;241m+\u001b[39m\u001b[38;5;241m1\u001b[39m):\n\u001b[0;32m     23\u001b[0m     \u001b[38;5;28mprint\u001b[39m(\u001b[38;5;124mf\u001b[39m\u001b[38;5;124m\"\u001b[39m\u001b[38;5;124mrunning for \u001b[39m\u001b[38;5;132;01m{\u001b[39;00mi\u001b[38;5;132;01m}\u001b[39;00m\u001b[38;5;124m and \u001b[39m\u001b[38;5;132;01m{\u001b[39;00mj\u001b[38;5;132;01m}\u001b[39;00m\u001b[38;5;124m\"\u001b[39m)\n\u001b[1;32m---> 24\u001b[0m     \u001b[38;5;28mprint\u001b[39m(\u001b[43mrace\u001b[49m\u001b[43m(\u001b[49m\u001b[43mi\u001b[49m\u001b[43m,\u001b[49m\u001b[43m \u001b[49m\u001b[43mj\u001b[49m\u001b[43m)\u001b[49m)\n",
      "Cell \u001b[1;32mIn[10], line 13\u001b[0m, in \u001b[0;36mrace\u001b[1;34m(x, y)\u001b[0m\n\u001b[0;32m     11\u001b[0m \u001b[38;5;28;01massert\u001b[39;00m y \u001b[38;5;241m>\u001b[39m x \u001b[38;5;129;01mand\u001b[39;00m y \u001b[38;5;241m<\u001b[39m\u001b[38;5;241m=\u001b[39m \u001b[38;5;241m2\u001b[39m \u001b[38;5;241m*\u001b[39m x, \u001b[38;5;124m'\u001b[39m\u001b[38;5;124mthe hare must be fast but not too fast\u001b[39m\u001b[38;5;124m'\u001b[39m\n\u001b[0;32m     12\u001b[0m tortoise, hare, minutes \u001b[38;5;241m=\u001b[39m \u001b[38;5;241m0\u001b[39m, \u001b[38;5;241m0\u001b[39m, \u001b[38;5;241m0\u001b[39m\n\u001b[1;32m---> 13\u001b[0m \u001b[38;5;28;01mwhile\u001b[39;00m minutes \u001b[38;5;241m==\u001b[39m \u001b[38;5;241m0\u001b[39m \u001b[38;5;129;01mor\u001b[39;00m tortoise \u001b[38;5;241m-\u001b[39m hare:\n\u001b[0;32m     14\u001b[0m     tortoise \u001b[38;5;241m+\u001b[39m\u001b[38;5;241m=\u001b[39m x\n\u001b[0;32m     15\u001b[0m     \u001b[38;5;28;01mif\u001b[39;00m minutes \u001b[38;5;241m%\u001b[39m \u001b[38;5;241m10\u001b[39m \u001b[38;5;241m<\u001b[39m \u001b[38;5;241m5\u001b[39m:\n",
      "\u001b[1;31mKeyboardInterrupt\u001b[0m: "
     ]
    }
   ],
   "source": [
    "def race(x, y):\n",
    "    \"\"\"The tortoise always walks x feet per minute, while the hare repeatedly\n",
    "    runs y feet per minute for 5 minutes, then rests for 5 minutes. Return how\n",
    "    many minutes pass until the tortoise first catches up to the hare.\n",
    "\n",
    "    >>> race(5, 7)  # After 7 minutes, both have gone 35 steps\n",
    "    7\n",
    "    >>> race(2, 4) # After 10 minutes, both have gone 20 steps\n",
    "    10\n",
    "    \"\"\"\n",
    "    assert y > x and y <= 2 * x, 'the hare must be fast but not too fast'\n",
    "    tortoise, hare, minutes = 0, 0, 0\n",
    "    while minutes == 0 or tortoise - hare:\n",
    "        tortoise += x\n",
    "        if minutes % 10 < 5:\n",
    "            hare += y\n",
    "        minutes += 1\n",
    "    return minutes\n",
    "\n",
    "for i in range(1, 10):\n",
    "    for j in range(1, 10):\n",
    "        if j in range(i+1, 2*i +1):\n",
    "            print(f\"running for {i} and {j}\")\n",
    "            print(race(i, j))"
   ]
  },
  {
   "cell_type": "code",
   "execution_count": 5,
   "metadata": {},
   "outputs": [
    {
     "name": "stdout",
     "output_type": "stream",
     "text": [
      "1\n",
      "2\n",
      "fizz\n",
      "4\n",
      "buzz\n",
      "fizz\n",
      "7\n",
      "8\n",
      "fizz\n",
      "buzz\n",
      "11\n",
      "fizz\n",
      "13\n",
      "14\n",
      "fizzbuzz\n",
      "16\n"
     ]
    }
   ],
   "source": [
    "def fizzbuzz(n):\n",
    "    for i in range(1, n+1):\n",
    "        if i % 3 == 0 and i % 5 != 0:\n",
    "            print(\"fizz\")\n",
    "        elif i % 5 == 0 and i % 3 != 0:\n",
    "            print(\"buzz\")\n",
    "        elif i % 15 == 0:\n",
    "            print(\"fizzbuzz\")\n",
    "        else:\n",
    "            print(i)\n",
    "        \n",
    "fizzbuzz(16)"
   ]
  },
  {
   "cell_type": "code",
   "execution_count": 17,
   "metadata": {},
   "outputs": [
    {
     "name": "stdout",
     "output_type": "stream",
     "text": [
      "False\n",
      "True\n",
      "False\n"
     ]
    }
   ],
   "source": [
    "def is_prime(n):\n",
    "    if n == 1: return False\n",
    "    i = 2\n",
    "    while i < n:\n",
    "        if n % i == 0: return False\n",
    "        i += 1\n",
    "    return True\n",
    "\n",
    "print(is_prime(9))\n",
    "print(is_prime(7))\n",
    "print(is_prime(1))"
   ]
  },
  {
   "cell_type": "code",
   "execution_count": 28,
   "metadata": {},
   "outputs": [
    {
     "name": "stdout",
     "output_type": "stream",
     "text": [
      "3\n"
     ]
    }
   ],
   "source": [
    "def unique_digits(n):\n",
    "    \"\"\"Return the number of unique digits in positive integer n.\n",
    "\n",
    "    >>> unique_digits(8675309) # All are unique\n",
    "    7\n",
    "    >>> unique_digits(13173131) # 1, 3, and 7\n",
    "    3\n",
    "    >>> unique_digits(101) # 0 and 1\n",
    "    2\n",
    "    \"\"\"\n",
    "    count = 0\n",
    "    while n > 0:\n",
    "        last = n % 10\n",
    "        n = n // 10\n",
    "        if not has_digit(n, last): count += 1\n",
    "    \n",
    "    return count\n",
    "\n",
    "def has_digit(n, k):\n",
    "    \"\"\"Returns whether k is a digit in n.\n",
    "\n",
    "    >>> has_digit(10, 1)\n",
    "    True\n",
    "    >>> has_digit(12, 7)\n",
    "    False\n",
    "    \"\"\"\n",
    "    assert k >= 0 and k < 10\n",
    "    while n > 0:\n",
    "       if n % 10 == k: return True\n",
    "       n = n // 10\n",
    "    return False \n",
    "\n",
    "print(unique_digits(123))"
   ]
  }
 ],
 "metadata": {
  "kernelspec": {
   "display_name": "Python 3",
   "language": "python",
   "name": "python3"
  },
  "language_info": {
   "codemirror_mode": {
    "name": "ipython",
    "version": 3
   },
   "file_extension": ".py",
   "mimetype": "text/x-python",
   "name": "python",
   "nbconvert_exporter": "python",
   "pygments_lexer": "ipython3",
   "version": "3.12.8"
  }
 },
 "nbformat": 4,
 "nbformat_minor": 2
}
