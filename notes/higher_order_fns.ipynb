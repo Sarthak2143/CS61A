{
 "cells": [
  {
   "cell_type": "markdown",
   "metadata": {},
   "source": [
    "## Higher Order Functions"
   ]
  },
  {
   "cell_type": "markdown",
   "metadata": {},
   "source": [
    "#### Function as return values"
   ]
  },
  {
   "cell_type": "code",
   "execution_count": 1,
   "metadata": {},
   "outputs": [],
   "source": [
    "def make_adder(n):\n",
    "    \"\"\"Returns a function that takes one argument K and returns K + N.\n",
    "    >>> add_three = make_adder(3)\n",
    "    >>> add_three(4)\n",
    "    7\n",
    "    \"\"\"\n",
    "    def adder(k):\n",
    "        return k + n\n",
    "    return adder"
   ]
  },
  {
   "cell_type": "code",
   "execution_count": 4,
   "metadata": {},
   "outputs": [
    {
     "name": "stdout",
     "output_type": "stream",
     "text": [
      "Finding tests in NoName\n",
      "Trying:\n",
      "    add_three = make_adder(3)\n",
      "Expecting nothing\n",
      "ok\n",
      "Trying:\n",
      "    add_three(4)\n",
      "Expecting:\n",
      "    7\n",
      "ok\n"
     ]
    }
   ],
   "source": [
    "from doctest import run_docstring_examples\n",
    "run_docstring_examples(make_adder, globals(), True)"
   ]
  },
  {
   "cell_type": "code",
   "execution_count": 5,
   "metadata": {},
   "outputs": [
    {
     "data": {
      "text/plain": [
       "7"
      ]
     },
     "execution_count": 5,
     "metadata": {},
     "output_type": "execute_result"
    }
   ],
   "source": [
    "make_adder(3)(4)"
   ]
  }
 ],
 "metadata": {
  "kernelspec": {
   "display_name": "Python 3",
   "language": "python",
   "name": "python3"
  },
  "language_info": {
   "codemirror_mode": {
    "name": "ipython",
    "version": 3
   },
   "file_extension": ".py",
   "mimetype": "text/x-python",
   "name": "python",
   "nbconvert_exporter": "python",
   "pygments_lexer": "ipython3",
   "version": "3.13.1"
  }
 },
 "nbformat": 4,
 "nbformat_minor": 2
}
